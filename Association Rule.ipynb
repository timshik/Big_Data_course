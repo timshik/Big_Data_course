{
 "cells": [
  {
   "cell_type": "code",
   "execution_count": 1,
   "metadata": {},
   "outputs": [],
   "source": [
    "import matplotlib.pyplot as plt\n",
    "from pyspark import SparkConf, SparkContext\n",
    "from pyspark.sql import SparkSession\n",
    "from sklearn.linear_model import LinearRegression\n",
    "source = \"C:\\\\Users\\\\Lidor\\\\Desktop\\\\sparkCourse\\\\\"\n",
    "CONF = 0.6"
   ]
  },
  {
   "cell_type": "code",
   "execution_count": 2,
   "metadata": {},
   "outputs": [],
   "source": [
    "def searchQuery(line):\n",
    "    details = line.split(\"\\t\")\n",
    "    return details[0], details[1]"
   ]
  },
  {
   "cell_type": "code",
   "execution_count": 3,
   "metadata": {},
   "outputs": [],
   "source": [
    "conf = SparkConf().setMaster(\"local[*]\").setAppName(\"Association Rule\")\n",
    "try:\n",
    "    sc = SparkContext(conf=conf)\n",
    "except:\n",
    "    sc.stop()\n",
    "    sc = SparkContext(conf=conf)"
   ]
  },
  {
   "cell_type": "code",
   "execution_count": 4,
   "metadata": {},
   "outputs": [],
   "source": [
    "#Database\n",
    "searches = sc.textFile(f\"file:///{source}user-ct-test-collection-01.txt\")"
   ]
  },
  {
   "cell_type": "code",
   "execution_count": 5,
   "metadata": {
    "scrolled": false
   },
   "outputs": [],
   "source": [
    "#Delete all blank row and mapped the relevent\n",
    "searches = searches.filter(lambda z: z != \"\").map(searchQuery)"
   ]
  },
  {
   "cell_type": "code",
   "execution_count": 6,
   "metadata": {
    "scrolled": false
   },
   "outputs": [],
   "source": [
    "searches  = searches.distinct().cache()"
   ]
  },
  {
   "cell_type": "code",
   "execution_count": 7,
   "metadata": {
    "scrolled": false
   },
   "outputs": [],
   "source": [
    "search_SUPP = searches.map(lambda x: (x[1], 1))\n",
    "search_SUPP = search_SUPP.reduceByKey(lambda x, y: x + y) #(Query,SUPP(X))"
   ]
  },
  {
   "cell_type": "code",
   "execution_count": 8,
   "metadata": {},
   "outputs": [],
   "source": [
    "search_support_XY = searches.join(searches)#(Tan, (X, Y)) \n",
    "search_support_XY = search_support_XY.filter(lambda z:z[1][0] != z[1][1])#delete duplicate searches"
   ]
  },
  {
   "cell_type": "code",
   "execution_count": 9,
   "metadata": {},
   "outputs": [],
   "source": [
    "search_support_XY_SUPP = search_support_XY.map(lambda z: (z[1], 1)).reduceByKey(lambda x,y: x+y)#((X, Y), SUPP(XUY))"
   ]
  },
  {
   "cell_type": "code",
   "execution_count": 10,
   "metadata": {},
   "outputs": [],
   "source": [
    "def doChangeInfo(info):\n",
    "    X = info[0][0]\n",
    "    Y = info[0][1]\n",
    "    SUPPXUY = info[1]\n",
    "    return X, (Y, SUPPXUY)"
   ]
  },
  {
   "cell_type": "code",
   "execution_count": 11,
   "metadata": {},
   "outputs": [],
   "source": [
    "search_support_XY_SUPP = search_support_XY_SUPP.map(doChangeInfo)#(X, (Y,SUPP(XUY)))"
   ]
  },
  {
   "cell_type": "code",
   "execution_count": 12,
   "metadata": {},
   "outputs": [],
   "source": [
    "RDDdict = search_SUPP.collectAsMap()#(X, SUPPX)"
   ]
  },
  {
   "cell_type": "code",
   "execution_count": 13,
   "metadata": {},
   "outputs": [],
   "source": [
    "def claculate_conf(line):\n",
    "    X = line[0]\n",
    "    Y = line[1][0]\n",
    "    SUPPXUY = line[1][1]\n",
    "    SUPPX = int(RDDdict[X])\n",
    "    CONF = SUPPXUY/SUPPX\n",
    "    return X, Y, CONF"
   ]
  },
  {
   "cell_type": "code",
   "execution_count": 14,
   "metadata": {},
   "outputs": [],
   "source": [
    "search_support_XY_CONF = search_support_XY_SUPP.map(claculate_conf)#(X, (Y,SUPP(XUY))) => #(X, Y,CONF(X=>Y))"
   ]
  },
  {
   "cell_type": "code",
   "execution_count": 15,
   "metadata": {},
   "outputs": [],
   "source": [
    "#print(search_support_XY_CONF.take(100))"
   ]
  },
  {
   "cell_type": "code",
   "execution_count": 16,
   "metadata": {},
   "outputs": [
    {
     "name": "stdout",
     "output_type": "stream",
     "text": [
      "142535336\n",
      "142506115\n",
      "142505277\n"
     ]
    }
   ],
   "source": [
    "search_support_XY_CONF_WithFilter = search_support_XY_CONF.filter(lambda z: z[2] > CONF)\n",
    "print(search_support_XY_CONF_WithFilter.count())\n",
    "CONF = 0.8\n",
    "search_support_XY_CONF_WithFilter = search_support_XY_CONF_WithFilter.filter(lambda z: z[2] > CONF)\n",
    "print(search_support_XY_CONF_WithFilter.count())\n",
    "CONF = 0.9\n",
    "search_support_XY_CONF_WithFilter = search_support_XY_CONF_WithFilter.filter(lambda z: z[2] > CONF)\n",
    "print(search_support_XY_CONF_WithFilter.count())"
   ]
  },
  {
   "cell_type": "code",
   "execution_count": 18,
   "metadata": {},
   "outputs": [
    {
     "name": "stdout",
     "output_type": "stream",
     "text": [
      "[('cmt awards', 'educational displays on antioxidantsblueberries raspberries and strawberries', 0.3333333333333333), ('pet memorials', 'internet', 0.5), ('yoko ono', 'joey jordisen pics', 0.25), ('www.toys r us.com', 'www.ciricard', 0.2), ('www.metlife.com mybenefits', 'www.myspace.com ilysamamberkellydeanna', 0.5), ('university hospitals', 'address', 0.5), ('microcenter', 'wil anderson', 0.2), ('phone aol', 'millsentertainment', 0.3333333333333333), ('tic', 'right arm numb', 0.5), ('behind these hazel eyes lyrics', 'new york clip art', 0.3333333333333333), ('definition of fiction', 'emrcedes benz', 0.5), ('song of the south', 'x-men 3 movie', 0.25), ('swish', 'pier one', 0.25), ('r&s straus', 'www.video game cheats.com', 0.3333333333333333), ('chevrolet avalanche', 'www.universalorlando.com annualpass', 0.3333333333333333), ('anatomy of the eye', 'stop someone from calling you', 0.5), ('first amendment', 'german translator', 0.5), ('makeup tips', 'alice in wondrland rven riddle', 0.3333333333333333), ('swap a lease', 'dol. atlanta ga', 0.5), ('kids luggage', 'naptster.com', 0.5), ('people 20search', 'yahooholigans', 0.2), ('gfs', 'sunkist', 0.5), ('bahama hotels', 'indianapolis indiana', 0.5), ('total fitness', 'clemson', 0.5), ('www.thumboverflow.com', 'apple.com', 0.5), ('movie downloads', 'wwe enterance song names', 0.2), ('western belts', 'cb base amplifier', 0.5), ('link-o-rama', 'cingularwireless.com', 0.5), ('www.linksys.com', 'shakespear sister', 0.25), ('statefarm', \"region's bank\", 0.25), ('crazy cartoons', 'antique gas pump globes for sale', 0.5), ('school district of palm beach county', 'terr judith', 0.3333333333333333), ('happy slapping', 'tattoos', 0.25), ('americancentury.com', 'collins-consulting.ore famil', 0.25), ('ny state lottery', 'hudsonvalleybank', 0.2), ('shirley temple', 'whirlpool washing leaking water what to check', 0.2), ('sex ofenders', 'motors.search.no-pool-name', 0.5), ('libby lu', 'stefanhafner.com', 0.3333333333333333), ('u s airways', 'steve harvey', 0.2), ('pursuit', 'what is the current weather in warren ohio', 0.5), ('kelly clarkson because of you lyrics', '4 parts of holy saturday', 0.5), ('meds', 'natasha bedingfield these words i love you lyrics', 0.2), ('vystar credit union', 'live oak tree', 0.5), ('unblock user', 'tips to keep self esteem high', 0.5), ('myspom', 'first anniversery ideas', 0.5), ('symptom checker', 'honey butter', 0.3333333333333333), ('www.broward.org', 'the bushel stop', 0.5), (\"fred's\", 'artistic pavers', 0.5), ('university', 'south pacific lyrics', 0.2), (\"robb's celebs\", 'strangers with candy cast list', 0.5), ('www.jdaross.mcmail.com', 'pictures elephant ivory', 0.25), ('used cameras', 'when did nixon resign', 0.5), ('british columbia', 'area 93.3', 0.25), ('chicago hotels', 'lesbiennes', 0.2), ('knotts berry farms', 'the roosevelt hotel', 0.5), ('ecards free', 'jenny rivera edad', 0.3333333333333333), ('ccim', 'icsc convention', 0.5), ('christian retreats', \"lands'end\", 0.5), ('tee tree oil', 'petite formal wear', 0.5), ('mart.com', 'www.state.nj.tresury', 0.5), ('landscape ideas', 'small cute dog', 0.3333333333333333), ('somerset', 'rotary district 7330 district conference', 0.3333333333333333), ('bookwormbitches', 'www.moreteenporn.com', 0.5), ('newport dunes resort', 'vangaurd.com', 0.5), ('blacksex', 'www.vision.com', 0.2), ('wheel', 'levisladz.com', 0.2), ('dwell', 'sherwood gazette', 0.5), ('chicagosun-times.com', 'ocker.com', 0.5), ('stephanie mcmahon', 'birthday massaccre', 0.25), ('old bridge high school', 'bjs wholesale club', 0.5), ('calle13.com', 'musica de sonora mex', 0.5), ('visit www.bausch.com', 'what our friends mean to us', 0.3333333333333333), ('post cereal', 'manatee', 0.3333333333333333), ('windows xp service pack 2', 'kidstuff books', 0.3333333333333333), ('new jersey state lottery', 'new jersey mason unions', 0.3333333333333333), ('paremtal controls', 'aphharetta dermatology', 0.5), ('versace glasses', 'bras i shall checkhoroscopes', 0.5), ('uveitis', 'atlanta vipers', 0.5), ('bit torrent', 'online kama sutra', 0.25), ('martin luther king jr', 'dealsonwheels', 0.25), ('american presidents', 'nature in paintings', 0.5), ('watchersweb.com', 'absotemp', 0.3333333333333333), ('oak lawn high school', 'haubenreiser', 0.5), ('incubators', 'nerve damage in the calf causing problems walking and ba', 0.5), ('pottery barn teen', 'marin.ca.gov', 0.25), ('jim feist', 'eldorado casino', 0.5), ('www.capitalfashions.com', 'buy custom made bedding', 0.5), ('2005 tax table', 'concurrent receipt', 0.5), ('jaguar cat', 'hoodoo', 0.5), ('porter cable', 'real estate prattville ala', 0.5), ('douglas elliman', 'borinquen rattan store', 0.25), ('triblive', 'qvc frazier', 0.5), ('jessicamcclintock', 'http www.my space.com', 0.3333333333333333), ('t-moible.com', 'science fair projects ideas', 0.5), ('dms', 'dms traider', 0.5), ('backgammon', 'zumiez', 0.25), ('dominican republic resorts', 'punta cana', 0.5), ('bobby valentino', 'good luck charm', 0.25), ('zakk wylde', 'socity 1', 0.5), ('cozumel mexico', 'www.futrellcustompools.com', 0.3333333333333333)]\n"
     ]
    }
   ],
   "source": [
    "search_support_XY_CONF_WithFilter = search_support_XY_CONF.filter(lambda z: z[2] >= 0.2 and z[2] < 1.0)\n",
    "print(search_support_XY_CONF_WithFilter.take(100))"
   ]
  },
  {
   "cell_type": "code",
   "execution_count": null,
   "metadata": {},
   "outputs": [],
   "source": []
  }
 ],
 "metadata": {
  "kernelspec": {
   "display_name": "Python 3",
   "language": "python",
   "name": "python3"
  },
  "language_info": {
   "codemirror_mode": {
    "name": "ipython",
    "version": 3
   },
   "file_extension": ".py",
   "mimetype": "text/x-python",
   "name": "python",
   "nbconvert_exporter": "python",
   "pygments_lexer": "ipython3",
   "version": "3.7.4"
  }
 },
 "nbformat": 4,
 "nbformat_minor": 2
}
